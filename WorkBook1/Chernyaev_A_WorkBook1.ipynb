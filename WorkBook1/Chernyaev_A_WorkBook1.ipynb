{
 "cells": [
  {
   "cell_type": "markdown",
   "id": "efd19318",
   "metadata": {},
   "source": [
    "# 1.3"
   ]
  },
  {
   "cell_type": "code",
   "execution_count": null,
   "id": "c9b71eae",
   "metadata": {},
   "outputs": [],
   "source": [
    "x = 5 >= 2\n",
    "A = {1, 3, 7, 8}\n",
    "B = {2, 4, 5, 10, 'apple'}\n",
    "C = A & B\n",
    "df = 'Антонова Антонина', 34, 'ж'\n",
    "z = 'type'\n",
    "D = [1, 'title', 2, 'content']\n",
    "\n",
    "print(  x, '|', type(x), '\\n', \\\n",
    "        A, '|', type(A), '\\n', \\\n",
    "        B, '|', type(B), '\\n,', \\\n",
    "        C, '|', type(C), '\\n', \\\n",
    "        df, '|', type(df), '\\n', \\\n",
    "        z, '|', type(z), '\\n', \\\n",
    "        D, '|', type(D), '\\n', \\\n",
    "     )"
   ]
  },
  {
   "cell_type": "markdown",
   "id": "8c398138",
   "metadata": {},
   "source": [
    "# 2.3"
   ]
  },
  {
   "cell_type": "code",
   "execution_count": 2,
   "id": "7630fdd1",
   "metadata": {},
   "outputs": [
    {
     "name": "stdout",
     "output_type": "stream",
     "text": [
      "53245\n",
      "(5, +infinity)\n"
     ]
    }
   ],
   "source": [
    "x = int(input())\n",
    "\n",
    "if x < -5:\n",
    "    print('(-infinity, -5)')\n",
    "elif x > 5:\n",
    "    print('(5, +infinity)')\n",
    "else:\n",
    "    print('[-5, 5]')"
   ]
  },
  {
   "cell_type": "markdown",
   "id": "55427ab3",
   "metadata": {},
   "source": [
    "# 3.2.1"
   ]
  },
  {
   "cell_type": "code",
   "execution_count": 3,
   "id": "0c7e58fe",
   "metadata": {},
   "outputs": [
    {
     "name": "stdout",
     "output_type": "stream",
     "text": [
      "10\n",
      "7\n",
      "4\n",
      "1\n"
     ]
    }
   ],
   "source": [
    "x = 10\n",
    "list = []\n",
    "\n",
    "while x > 0:\n",
    "    print(x)\n",
    "    x -= 3"
   ]
  },
  {
   "cell_type": "markdown",
   "id": "af6dfd2d",
   "metadata": {},
   "source": [
    "# 3.3.2"
   ]
  },
  {
   "cell_type": "code",
   "execution_count": 4,
   "id": "6dc72041",
   "metadata": {},
   "outputs": [
    {
     "name": "stdout",
     "output_type": "stream",
     "text": [
      "['Age', 'High', 'Weight', 'Education', 'Profession', 'Job', 'Borth date', 'Borth place', 'Sex', 'Marital status']\n"
     ]
    }
   ],
   "source": [
    "HumanAttrs = [\n",
    "              'Age',\n",
    "              'High',\n",
    "              'Weight',\n",
    "              'Education',\n",
    "              'Profession',\n",
    "              'Job',\n",
    "              'Borth date',\n",
    "              'Borth place',\n",
    "              'Sex',\n",
    "              'Marital status',\n",
    "             ]\n",
    "\n",
    "print(HumanAttrs)\n"
   ]
  },
  {
   "cell_type": "markdown",
   "id": "e87862de",
   "metadata": {},
   "source": [
    "# 3.3.3"
   ]
  },
  {
   "cell_type": "code",
   "execution_count": 5,
   "id": "2eda5254",
   "metadata": {},
   "outputs": [
    {
     "data": {
      "text/plain": [
       "{2, 3, 4, 5, 6, 7, 8, 9, 10, 11, 12, 13, 14, 15}"
      ]
     },
     "execution_count": 5,
     "metadata": {},
     "output_type": "execute_result"
    }
   ],
   "source": [
    "set(range(2, 16))"
   ]
  },
  {
   "cell_type": "markdown",
   "id": "172089af",
   "metadata": {},
   "source": [
    "# 3.3.4"
   ]
  },
  {
   "cell_type": "code",
   "execution_count": 6,
   "id": "6fdea064",
   "metadata": {},
   "outputs": [
    {
     "name": "stdout",
     "output_type": "stream",
     "text": [
      "105\n",
      "80\n",
      "55\n",
      "30\n",
      "5\n"
     ]
    }
   ],
   "source": [
    "for i in range(105, 4, -25):\n",
    "    print(i)"
   ]
  },
  {
   "cell_type": "markdown",
   "id": "59b389e1",
   "metadata": {},
   "source": [
    "# 3.3.5"
   ]
  },
  {
   "cell_type": "code",
   "execution_count": 7,
   "id": "1311020d",
   "metadata": {},
   "outputs": [
    {
     "name": "stdout",
     "output_type": "stream",
     "text": [
      "[10, 1, 8, 3, 6, 5, 4, 7, 2, 9, 0, 11]\n"
     ]
    }
   ],
   "source": [
    "x = [0,1,2,3,4,5,6,7,8,9,10,11]\n",
    "X = []\n",
    "\n",
    "X = [d for i in tuple(zip(x[::2][::-1], x[1::2])) for d in i]\n",
    "print(X)"
   ]
  },
  {
   "cell_type": "markdown",
   "id": "d1cbebb7",
   "metadata": {},
   "source": [
    "# 4.3.1"
   ]
  },
  {
   "cell_type": "code",
   "execution_count": 8,
   "id": "7c417b45",
   "metadata": {},
   "outputs": [
    {
     "data": {
      "text/plain": [
       "<matplotlib.collections.PathCollection at 0x1e3f5256d40>"
      ]
     },
     "execution_count": 8,
     "metadata": {},
     "output_type": "execute_result"
    },
    {
     "data": {
      "image/png": "[encoded data removed]",
      "text/plain": [
       "<Figure size 432x288 with 1 Axes>"
      ]
     },
     "metadata": {
      "needs_background": "light"
     },
     "output_type": "display_data"
    }
   ],
   "source": [
    "import numpy as np\n",
    "import matplotlib.pyplot as plt\n",
    "arr = [np.random.randint(0, 100)/100 for i in range(10)]\n",
    "\n",
    "plt.scatter([i for i in range(len(arr))], arr)\n",
    "plt.scatter(len(arr), np.mean(arr), color='red')\n",
    "plt.scatter(len(arr)+1, np.median(arr), color='green')"
   ]
  },
  {
   "cell_type": "markdown",
   "id": "8f773083",
   "metadata": {},
   "source": [
    "# 4.3.2"
   ]
  },
  {
   "cell_type": "code",
   "execution_count": 9,
   "id": "0e9f1069",
   "metadata": {},
   "outputs": [
    {
     "data": {
      "text/plain": [
       "<matplotlib.collections.PathCollection at 0x1e3f737f940>"
      ]
     },
     "execution_count": 9,
     "metadata": {},
     "output_type": "execute_result"
    },
    {
     "data": {
      "image/png": "[encoded data removed]",
      "text/plain": [
       "<Figure size 432x288 with 1 Axes>"
      ]
     },
     "metadata": {
      "needs_background": "light"
     },
     "output_type": "display_data"
    }
   ],
   "source": [
    "import matplotlib.pyplot as plt\n",
    "from math import sqrt, exp, cos, sin\n",
    "\n",
    "x = np.arange(1, 10)\n",
    "y = np.sqrt(1+np.exp(np.sqrt(x))+np.cos(x**2))/np.abs(1-(np.sin(x))**2) - np.log(np.abs(2*x))\n",
    "\n",
    "plt.plot(x, y)\n",
    "plt.scatter(x, y, color='red')"
   ]
  },
  {
   "cell_type": "markdown",
   "id": "64008bfb",
   "metadata": {},
   "source": [
    "# 4.3.3"
   ]
  },
  {
   "cell_type": "code",
   "execution_count": 10,
   "id": "7d677743",
   "metadata": {},
   "outputs": [
    {
     "name": "stdout",
     "output_type": "stream",
     "text": [
      "5.281433013197276\n"
     ]
    },
    {
     "data": {
      "image/png": "[encoded data removed]",
      "text/plain": [
       "<Figure size 432x288 with 1 Axes>"
      ]
     },
     "metadata": {
      "needs_background": "light"
     },
     "output_type": "display_data"
    }
   ],
   "source": [
    "import matplotlib.pyplot as plt\n",
    "import numpy as np\n",
    "from numpy import trapz\n",
    "\n",
    "x = np.arange(1, 10)\n",
    "y = np.abs(np.cos(x*np.exp(np.cos(x)+np.log(x+1))))\n",
    "\n",
    "plt.plot(x, y, color='red')\n",
    "plt.fill_between(x, y)\n",
    "\n",
    "area = trapz(y)\n",
    "print(area)"
   ]
  },
  {
   "cell_type": "markdown",
   "id": "abb90d66",
   "metadata": {},
   "source": [
    "# 4.3.4"
   ]
  },
  {
   "cell_type": "code",
   "execution_count": 11,
   "id": "f44fbac8",
   "metadata": {},
   "outputs": [
    {
     "data": {
      "image/png": "[encoded data removed]",
      "text/plain": [
       "<Figure size 432x288 with 1 Axes>"
      ]
     },
     "metadata": {
      "needs_background": "light"
     },
     "output_type": "display_data"
    }
   ],
   "source": [
    "import pandas as pd\n",
    "import matplotlib.pyplot as plt\n",
    "\n",
    "\n",
    "google = pd.read_csv('GOOGL.csv')\n",
    "apple = pd.read_csv('AAPL.csv')\n",
    "microsoft = pd.read_csv('MSFT.csv')\n",
    "\n",
    "plt.plot(google['Open'], label='google')\n",
    "plt.plot(apple['Open'], label='apple')\n",
    "plt.plot(microsoft['Open'], label='microsoft')\n",
    "plt.xlabel('USD')\n",
    "plt.ylabel('USD')\n",
    "plt.title('Stock value')\n",
    "plt.legend();"
   ]
  },
  {
   "cell_type": "markdown",
   "id": "d4ead519",
   "metadata": {},
   "source": [
    "# 4.3.5"
   ]
  },
  {
   "cell_type": "code",
   "execution_count": null,
   "id": "8b565d8f",
   "metadata": {},
   "outputs": [],
   "source": [
    "from math import cos, sin, exp\n",
    "\n",
    "while True:\n",
    "    x = int(input('Enter x'))\n",
    "    y = int(input('Enter y'))\n",
    "    operate = int(input('Enter operate:\\n' + \n",
    "                        '1 - \"+\"\\n' +\n",
    "                        '2 - \"-\"\\n' +\n",
    "                        '3 - \"*\"\\n' +\n",
    "                        '4 - \"/\"\\n' +\n",
    "                        '5 - \"exp(x+y)\"\\n' +\n",
    "                        '6 - \"sin(x+y)\"\\n' +\n",
    "                        '7 - \"cos(x+y)\"\\n' +\n",
    "                        '8 - \"x^y\"\\n' +\n",
    "                        '9 - Exit\\n'))\n",
    "    if operate == 1:\n",
    "        print('Answer: ', x+y)\n",
    "        continue\n",
    "    if operate == 2:\n",
    "        print('Answer: ', x-y)\n",
    "        continue\n",
    "    if operate == 3:\n",
    "        print('Answer: ', x*y)\n",
    "        continue\n",
    "    if operate == 4:\n",
    "        print('Answer: ', x/y)\n",
    "        continue\n",
    "    if operate == 5:\n",
    "        print('Answer: ', exp(x+y))\n",
    "        continue\n",
    "    if operate == 6:\n",
    "        print('Answer: ', sin(x+y))\n",
    "        continue\n",
    "    if operate == 7:\n",
    "        print('Answer: ', cos(x+y))\n",
    "        continue\n",
    "    if operate == 8:\n",
    "        print('Answer: ', x**y)\n",
    "        continue\n",
    "    if operate == 9:\n",
    "        break"
   ]
  }
 ],
 "metadata": {
  "kernelspec": {
   "display_name": "Python 3 (ipykernel)",
   "language": "python",
   "name": "python3"
  },
  "language_info": {
   "codemirror_mode": {
    "name": "ipython",
    "version": 3
   },
   "file_extension": ".py",
   "mimetype": "text/x-python",
   "name": "python",
   "nbconvert_exporter": "python",
   "pygments_lexer": "ipython3",
   "version": "3.10.4"
  }
 },
 "nbformat": 4,
 "nbformat_minor": 5
}
