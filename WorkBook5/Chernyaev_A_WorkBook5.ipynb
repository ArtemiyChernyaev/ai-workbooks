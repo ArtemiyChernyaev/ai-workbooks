{
 "cells": [
  {
   "cell_type": "code",
   "execution_count": 133,
   "id": "59b1fbe8",
   "metadata": {},
   "outputs": [
    {
     "name": "stdout",
     "output_type": "stream",
     "text": [
      "1.0\n",
      "0.0\n",
      "0.0\n",
      "0.0\n",
      "1.5707963267948966\n",
      "0.0\n",
      "90.0\n",
      "0.9948376736367679\n"
     ]
    }
   ],
   "source": [
    "import math\n",
    "\n",
    "\n",
    "class Trig:\n",
    "    \n",
    "    @staticmethod\n",
    "    def cos(x):\n",
    "        return math.cos(x)\n",
    "    \n",
    "    @staticmethod\n",
    "    def sin(x):\n",
    "        return math.sin(x)\n",
    "    \n",
    "    @staticmethod\n",
    "    def tg(x):\n",
    "        return math.tan(x)\n",
    "    \n",
    "    @staticmethod\n",
    "    def arcsin(x):\n",
    "        return math.asin(x)\n",
    "    \n",
    "    @staticmethod\n",
    "    def arccos(x):\n",
    "        return math.acos(x)\n",
    "    \n",
    "    @staticmethod\n",
    "    def arctg(x):\n",
    "        return math.atan(x)\n",
    "    \n",
    "    @staticmethod\n",
    "    def rad2deg(x):\n",
    "        return math.degrees(x)\n",
    "    \n",
    "    @staticmethod\n",
    "    def deg2rad(x):\n",
    "        return math.radians(x)\n",
    "    \n",
    "    \n",
    "trig = Trig()\n",
    "\n",
    "print(trig.cos(0))\n",
    "print(trig.sin(0))\n",
    "print(trig.tg(0))\n",
    "print(trig.arcsin(0))\n",
    "print(trig.arccos(0))\n",
    "print(trig.arctg(0))\n",
    "print(trig.rad2deg(math.pi/2))\n",
    "print(trig.deg2rad(57))"
   ]
  },
  {
   "cell_type": "code",
   "execution_count": 134,
   "id": "3073a8a5",
   "metadata": {},
   "outputs": [],
   "source": [
    "Tree = ['a',['b', 'd', 'e'], ['c','f']]"
   ]
  },
  {
   "cell_type": "code",
   "execution_count": 135,
   "id": "6c1b1497",
   "metadata": {},
   "outputs": [
    {
     "name": "stdout",
     "output_type": "stream",
     "text": [
      "2\n",
      "L: 0\n",
      "R: 3\n",
      "\n",
      "0\n",
      "L: \n",
      "R: \n",
      "\n",
      "3\n",
      "L: \n",
      "R: 7\n",
      "\n",
      "7\n",
      "L: 4\n",
      "R: 8\n",
      "\n",
      "4\n",
      "L: \n",
      "R: 6\n",
      "\n",
      "6\n",
      "L: 5\n",
      "R: \n",
      "\n",
      "5\n",
      "L: \n",
      "R: \n",
      "\n",
      "8\n",
      "L: \n",
      "R: 9\n",
      "\n",
      "9\n",
      "L: \n",
      "R: \n",
      "\n"
     ]
    }
   ],
   "source": [
    "class Tree:\n",
    "    def __init__(self, data):\n",
    "        self.left = None\n",
    "        self.right = None\n",
    "        self.data = data\n",
    "\n",
    "    def insert(self, data):\n",
    "        if self.data:\n",
    "            if data < self.data:\n",
    "                if self.left is None:\n",
    "                    self.left = Tree(data)\n",
    "                else:\n",
    "                    self.left.insert(data)\n",
    "            elif data > self.data:\n",
    "                if self.right is None:\n",
    "                    self.right = Tree(data)\n",
    "                else:\n",
    "                    self.right.insert(data)\n",
    "        else:\n",
    "            self.data = data\n",
    "    \n",
    "    def PrintTree(self):\n",
    "        print(self.data)\n",
    "        print('L:', self.left.data if (self.left != None) else '') \n",
    "        print('R:', self.right.data if (self.right != None) else '')\n",
    "        print()\n",
    "        if (self.left != None):\n",
    "            self.left.PrintTree() \n",
    "        if (self.right != None): \n",
    "            self.right.PrintTree() \n",
    "            \n",
    "            \n",
    "root = Node(0)\n",
    "root.insert(2)\n",
    "root.insert(3)\n",
    "root.insert(7)\n",
    "root.insert(4)\n",
    "root.insert(6)\n",
    "root.insert(5)\n",
    "root.insert(8)\n",
    "root.insert(9)\n",
    "root.insert(0)\n",
    "root.PrintTree()"
   ]
  },
  {
   "cell_type": "code",
   "execution_count": 136,
   "id": "81afc36b",
   "metadata": {},
   "outputs": [
    {
     "name": "stdout",
     "output_type": "stream",
     "text": [
      "X_test:\n",
      " [[-263  -63]\n",
      " [  -2  -26]\n",
      " [  -3 -224]\n",
      " [   1   41]\n",
      " [   2   12]\n",
      " [ 263    2]]\n",
      "target_pred:  [0 0 0 1 1 1]\n"
     ]
    },
    {
     "data": {
      "image/png": "[encoded data removed]",
      "text/plain": [
       "<Figure size 432x288 with 1 Axes>"
      ]
     },
     "metadata": {
      "needs_background": "light"
     },
     "output_type": "display_data"
    }
   ],
   "source": [
    "import pandas as pd\n",
    "import numpy as np\n",
    "import matplotlib.pyplot as plt\n",
    "from sklearn.tree import DecisionTreeClassifier\n",
    "from sklearn import tree \n",
    "\n",
    "\n",
    "X = np.array([[-1, -1], [-2, -1], [-3, -2], [1, 1], [2, 1], [3, 2]])\n",
    "target = [0, 0, 0, 1, 1, 1]\n",
    "\n",
    "X_test = np.array([[-263, -63], [-2, -26], [-3, -224], [1, 41], [2, 12], [263, 2]])\n",
    "\n",
    "classifier = DecisionTreeClassifier()\n",
    "classifier.fit(X, target)\n",
    "tree.plot_tree(classifier)\n",
    "\n",
    "target_pred = classifier.predict(X_test)\n",
    "print('X_test:\\n', X_test)\n",
    "print('target_pred: ',target_pred)"
   ]
  },
  {
   "cell_type": "code",
   "execution_count": 139,
   "id": "e73d9a23",
   "metadata": {},
   "outputs": [
    {
     "data": {
      "image/png": "[encoded data removed]",
      "text/plain": [
       "<Figure size 432x288 with 1 Axes>"
      ]
     },
     "metadata": {
      "needs_background": "light"
     },
     "output_type": "display_data"
    }
   ],
   "source": [
    "import pandas as pd\n",
    "import numpy as np\n",
    "import matplotlib.pyplot as plt\n",
    "from sklearn.model_selection import train_test_split\n",
    "from sklearn.tree import DecisionTreeClassifier\n",
    "from sklearn import tree \n",
    "from sklearn import metrics\n",
    "\n",
    "url = \"https://raw.githubusercontent.com/likarajo/petrol_consumption/master/data/petrol_consumption.csv\"\n",
    "dataset = pd.read_csv(url)\n",
    "\n",
    "plt.scatter(dataset['Average_income'], dataset['Petrol_Consumption'])\n",
    "\n",
    "X = dataset.iloc[:, 1].values.reshape(-1, 1)\n",
    "y = dataset.iloc[:, 4].values.reshape(-1, 1)\n",
    "\n",
    "X_train, X_test, y_train, y_test = train_test_split(X, y, test_size = 0.4, random_state = 0)\n",
    "\n",
    "regressor = DecisionTreeClassifier()\n",
    "regressor.fit(X_train, y_train)\n",
    "\n",
    "y_pred = regressor.predict(X_test)"
   ]
  },
  {
   "cell_type": "code",
   "execution_count": 140,
   "id": "469df5e4",
   "metadata": {},
   "outputs": [
    {
     "data": {
      "image/png": "[encoded data removed]",
      "text/plain": [
       "<Figure size 432x288 with 1 Axes>"
      ]
     },
     "metadata": {
      "needs_background": "light"
     },
     "output_type": "display_data"
    }
   ],
   "source": [
    "tree.plot_tree(regressor);"
   ]
  },
  {
   "cell_type": "code",
   "execution_count": 141,
   "id": "b98c7044",
   "metadata": {},
   "outputs": [
    {
     "data": {
      "image/png": "[encoded data removed]",
      "text/plain": [
       "<Figure size 432x288 with 1 Axes>"
      ]
     },
     "metadata": {
      "needs_background": "light"
     },
     "output_type": "display_data"
    }
   ],
   "source": [
    "plt.scatter(X_test, y_pred);"
   ]
  },
  {
   "cell_type": "code",
   "execution_count": 142,
   "id": "dbd2b6a6",
   "metadata": {},
   "outputs": [
    {
     "name": "stdout",
     "output_type": "stream",
     "text": [
      "Mean Squared Error: 25817.95\n",
      "Mean Absolute Error: 106.65\n"
     ]
    }
   ],
   "source": [
    "print('Mean Squared Error:', metrics.mean_squared_error(y_test, y_pred))\n",
    "print('Mean Absolute Error:', metrics.mean_absolute_error(y_test, y_pred))"
   ]
  }
 ],
 "metadata": {
  "kernelspec": {
   "display_name": "Python 3 (ipykernel)",
   "language": "python",
   "name": "python3"
  },
  "language_info": {
   "codemirror_mode": {
    "name": "ipython",
    "version": 3
   },
   "file_extension": ".py",
   "mimetype": "text/x-python",
   "name": "python",
   "nbconvert_exporter": "python",
   "pygments_lexer": "ipython3",
   "version": "3.10.4"
  }
 },
 "nbformat": 4,
 "nbformat_minor": 5
}
